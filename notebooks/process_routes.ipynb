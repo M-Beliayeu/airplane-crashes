{
 "cells": [
  {
   "cell_type": "code",
   "execution_count": 6,
   "id": "fae8ddd3",
   "metadata": {},
   "outputs": [],
   "source": [
    "import sqlalchemy as db\n",
    "from geopy.geocoders import Nominatim"
   ]
  },
  {
   "cell_type": "code",
   "execution_count": 10,
   "id": "5ec40be4",
   "metadata": {},
   "outputs": [],
   "source": [
    "geolocator = Nominatim(user_agent=\"process_routes\")"
   ]
  },
  {
   "cell_type": "code",
   "execution_count": 25,
   "id": "666db331",
   "metadata": {},
   "outputs": [],
   "source": [
    "username = \"root\"\n",
    "password = \"password\"\n",
    "server = \"localhost\"\n",
    "database = \"airplane_crashes\"\n",
    "\n",
    "engine = db.create_engine(f\"mysql+pymysql://{username}:{password}@{server}/{database}\")\n",
    "metadata = db.MetaData()\n",
    "\n",
    "crashes_tbl = db.Table('Crashes', metadata, autoload_with=engine)\n",
    "routes_tbl = db.Table('Routes', metadata, autoload_with=engine)"
   ]
  },
  {
   "cell_type": "code",
   "execution_count": 27,
   "id": "b165a8c6",
   "metadata": {},
   "outputs": [],
   "source": [
    "with engine.connect() as con:\n",
    "    for cid, route in con.execute(db.select(crashes_tbl.c.cid, crashes_tbl.c.route)):\n",
    "        if route is None:\n",
    "            continue\n",
    "        \n",
    "        for index, location in enumerate(route.replace(' -', ' - ').replace('- ', ' - ').split('-')):\n",
    "            location = location.strip()\n",
    "            \n",
    "            con.execute(routes_tbl.insert().values(cid=cid, ordinal=index, location=location if location != '' else None))\n",
    "            "
   ]
  },
  {
   "cell_type": "code",
   "execution_count": null,
   "id": "bd1c7bef",
   "metadata": {},
   "outputs": [],
   "source": []
  }
 ],
 "metadata": {
  "kernelspec": {
   "display_name": "Python 3 (ipykernel)",
   "language": "python",
   "name": "python3"
  },
  "language_info": {
   "codemirror_mode": {
    "name": "ipython",
    "version": 3
   },
   "file_extension": ".py",
   "mimetype": "text/x-python",
   "name": "python",
   "nbconvert_exporter": "python",
   "pygments_lexer": "ipython3",
   "version": "3.9.5"
  }
 },
 "nbformat": 4,
 "nbformat_minor": 5
}
