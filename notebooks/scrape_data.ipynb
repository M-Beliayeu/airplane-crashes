{
 "cells": [
  {
   "cell_type": "code",
   "execution_count": null,
   "id": "4d4756db",
   "metadata": {},
   "outputs": [],
   "source": [
    "import pandas as pd\n",
    "import numpy as np\n",
    "import requests\n",
    "from bs4 import BeautifulSoup  \n",
    "import re\n",
    "import sqlalchemy as db\n",
    "from pathlib import Path"
   ]
  },
  {
   "cell_type": "markdown",
   "id": "1464eaec",
   "metadata": {},
   "source": [
    "<h4>Connect to server</h4>"
   ]
  },
  {
   "cell_type": "code",
   "execution_count": null,
   "id": "eae3b63e",
   "metadata": {},
   "outputs": [],
   "source": [
    "username = \"root\"\n",
    "password = \"password\"\n",
    "server = \"localhost\"\n",
    "database = \"airplane_crashes\"\n",
    "\n",
    "engine = db.create_engine(f\"mysql+pymysql://{username}:{password}@{server}/{database}\")\n",
    "metadata = db.MetaData()\n",
    "\n",
    "crashes_tbl = db.Table('Crashes', metadata, autoload_with=engine)"
   ]
  },
  {
   "cell_type": "markdown",
   "id": "0aab98a9",
   "metadata": {},
   "source": [
    "<h4>Scout data</h4>"
   ]
  },
  {
   "cell_type": "code",
   "execution_count": null,
   "id": "7a10c22f",
   "metadata": {},
   "outputs": [],
   "source": [
    "website = \"http://www.planecrashinfo.com/\"\n",
    "source = Path('database.htm')\n",
    "soup = BeautifulSoup(requests.get(website + str(source)).content)"
   ]
  },
  {
   "cell_type": "code",
   "execution_count": null,
   "id": "018b2d4d",
   "metadata": {},
   "outputs": [],
   "source": [
    "print(soup.prettify())"
   ]
  },
  {
   "cell_type": "code",
   "execution_count": null,
   "id": "9abacfbe",
   "metadata": {},
   "outputs": [],
   "source": [
    "tables = soup.find_all('table')\n",
    "tables"
   ]
  },
  {
   "cell_type": "markdown",
   "id": "f493e152",
   "metadata": {},
   "source": [
    "<h4>Data description</h4>"
   ]
  },
  {
   "cell_type": "code",
   "execution_count": null,
   "id": "784579b6",
   "metadata": {},
   "outputs": [],
   "source": [
    "descr = []\n",
    "for line in tables[0].find_all('li'):\n",
    "    descr.append(line.text.strip())\n",
    "descr"
   ]
  },
  {
   "cell_type": "markdown",
   "id": "e8a01b43",
   "metadata": {},
   "source": [
    "<h4>Column description</h4>"
   ]
  },
  {
   "cell_type": "code",
   "execution_count": null,
   "id": "8669af32",
   "metadata": {},
   "outputs": [],
   "source": [
    "data_format = pd.read_html(str(tables))[-1]\n",
    "data_format.columns = ['field', 'description']\n",
    "data_format = data_format.iloc[1:, :]\n",
    "data_format.field = data_format.field.apply(lambda x: x[:-1])\n",
    "data_format"
   ]
  },
  {
   "cell_type": "markdown",
   "id": "4d487406",
   "metadata": {},
   "source": [
    "<h4>Process Data</h4>"
   ]
  },
  {
   "cell_type": "code",
   "execution_count": null,
   "id": "85120677",
   "metadata": {},
   "outputs": [],
   "source": [
    "def process_record(index, con):\n",
    "    \n",
    "    df = pd.read_html(requests.get(website + str(index)).content)[0]\n",
    "    value = df.iloc[1:, :].set_index(0).iloc[:, 0]\n",
    "    \n",
    "    value.index = list(map(lambda x: x[:-1].lower(), value.index))\n",
    "    value = value.rename({'flight #': 'flight_no', 'ac  type': 'ac_type', 'cn / ln': 'cn/ln'})\n",
    "\n",
    "    stmt = db.insert(crashes_tbl).values(**{key:val for key, val in value.to_dict().items() if val != '?'})\n",
    "    con.execute(stmt)"
   ]
  },
  {
   "cell_type": "code",
   "execution_count": null,
   "id": "4662fbfe",
   "metadata": {},
   "outputs": [],
   "source": [
    "def process_year(index, con):\n",
    "\n",
    "    parent = index.parent\n",
    "    soup = BeautifulSoup(requests.get(website + str(index)).content)\n",
    "    \n",
    "    for row in soup.find_all('tr'):\n",
    "        \n",
    "        if row.a is not None:\n",
    "            process_record(parent / Path(row.a['href']), con)"
   ]
  },
  {
   "cell_type": "code",
   "execution_count": null,
   "id": "eb26b0f4",
   "metadata": {},
   "outputs": [],
   "source": [
    "date_regex = re.compile(r'\\d{4}')\n",
    "\n",
    "with engine.connect() as con:\n",
    "    for row in tables[1].find_all('td'):\n",
    "        date = row.text.strip()\n",
    "        if date_regex.match(date):\n",
    "            rel_link = Path(row.a['href'])\n",
    "            process_year(rel_link, con)"
   ]
  },
  {
   "cell_type": "code",
   "execution_count": null,
   "id": "f15bbcaf",
   "metadata": {},
   "outputs": [],
   "source": []
  },
  {
   "cell_type": "code",
   "execution_count": null,
   "id": "2242d21e",
   "metadata": {},
   "outputs": [],
   "source": []
  }
 ],
 "metadata": {
  "kernelspec": {
   "display_name": "Python 3 (ipykernel)",
   "language": "python",
   "name": "python3"
  },
  "language_info": {
   "codemirror_mode": {
    "name": "ipython",
    "version": 3
   },
   "file_extension": ".py",
   "mimetype": "text/x-python",
   "name": "python",
   "nbconvert_exporter": "python",
   "pygments_lexer": "ipython3",
   "version": "3.9.5"
  }
 },
 "nbformat": 4,
 "nbformat_minor": 5
}
